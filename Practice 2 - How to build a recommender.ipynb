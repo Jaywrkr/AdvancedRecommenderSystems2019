{
 "cells": [
  {
   "cell_type": "markdown",
   "metadata": {},
   "source": [
    "# Recommender Systems 2018/19\n",
    "\n",
    "### Practice 2 - Non personalized recommenders"
   ]
  },
  {
   "cell_type": "markdown",
   "metadata": {},
   "source": [
    "#### We will use the Movielens 10 million dataset. We download it and uncompress the file we need"
   ]
  },
  {
   "cell_type": "code",
   "execution_count": 36,
   "metadata": {},
   "outputs": [],
   "source": [
    "from urllib.request import urlretrieve\n",
    "import zipfile"
   ]
  },
  {
   "cell_type": "code",
   "execution_count": 37,
   "metadata": {},
   "outputs": [
    {
     "data": {
      "text/plain": [
       "('data/Movielens_10M/movielens_10m.zip',\n",
       " <http.client.HTTPMessage at 0x19ce56e48>)"
      ]
     },
     "execution_count": 37,
     "metadata": {},
     "output_type": "execute_result"
    }
   ],
   "source": [
    "urlretrieve (\"http://files.grouplens.org/datasets/movielens/ml-10m.zip\", \"data/Movielens_10M/movielens_10m.zip\")"
   ]
  },
  {
   "cell_type": "code",
   "execution_count": 38,
   "metadata": {},
   "outputs": [],
   "source": [
    "dataFile = zipfile.ZipFile(\"data/Movielens_10M/movielens_10m.zip\")\n",
    "\n",
    "URM_path = dataFile.extract(\"ml-10M100K/ratings.dat\", path = \"data/Movielens_10M\")\n",
    "\n",
    "URM_file = open(URM_path, 'r')"
   ]
  },
  {
   "cell_type": "code",
   "execution_count": 39,
   "metadata": {},
   "outputs": [
    {
     "data": {
      "text/plain": [
       "_io.TextIOWrapper"
      ]
     },
     "execution_count": 39,
     "metadata": {},
     "output_type": "execute_result"
    }
   ],
   "source": [
    "type(URM_file)"
   ]
  },
  {
   "cell_type": "markdown",
   "metadata": {},
   "source": [
    "#### Let's take a look at the data"
   ]
  },
  {
   "cell_type": "code",
   "execution_count": 40,
   "metadata": {},
   "outputs": [
    {
     "name": "stdout",
     "output_type": "stream",
     "text": [
      "1::122::5::838985046\n",
      "\n",
      "1::185::5::838983525\n",
      "\n",
      "1::231::5::838983392\n",
      "\n",
      "1::292::5::838983421\n",
      "\n",
      "1::316::5::838983392\n",
      "\n",
      "1::329::5::838983392\n",
      "\n",
      "1::355::5::838984474\n",
      "\n",
      "1::356::5::838983653\n",
      "\n",
      "1::362::5::838984885\n",
      "\n",
      "1::364::5::838983707\n",
      "\n"
     ]
    }
   ],
   "source": [
    "for _ in range(10):\n",
    "    print(URM_file.readline())"
   ]
  },
  {
   "cell_type": "code",
   "execution_count": 41,
   "metadata": {},
   "outputs": [
    {
     "name": "stdout",
     "output_type": "stream",
     "text": [
      "The number of interactions is 10000054\n"
     ]
    }
   ],
   "source": [
    "# Start from beginning of the file\n",
    "URM_file.seek(0)\n",
    "numberInteractions = 0\n",
    "\n",
    "for _ in URM_file:\n",
    "   numberInteractions += 1\n",
    "\n",
    "print (\"The number of interactions is {}\".format(numberInteractions))"
   ]
  },
  {
   "cell_type": "markdown",
   "metadata": {},
   "source": [
    "### We split each row to separate user, item, rating and timestamp. We do that with a custom function creating a tuple for each interaction"
   ]
  },
  {
   "cell_type": "code",
   "execution_count": 42,
   "metadata": {},
   "outputs": [
    {
     "data": {
      "text/plain": [
       "[(1, 122, 5.0, 838985046),\n",
       " (1, 185, 5.0, 838983525),\n",
       " (1, 231, 5.0, 838983392),\n",
       " (1, 292, 5.0, 838983421),\n",
       " (1, 316, 5.0, 838983392),\n",
       " (1, 329, 5.0, 838983392),\n",
       " (1, 355, 5.0, 838984474),\n",
       " (1, 356, 5.0, 838983653),\n",
       " (1, 362, 5.0, 838984885),\n",
       " (1, 364, 5.0, 838983707)]"
      ]
     },
     "execution_count": 42,
     "metadata": {},
     "output_type": "execute_result"
    }
   ],
   "source": [
    "def rowSplit (rowString):\n",
    "    \n",
    "    split = rowString.split(\"::\")\n",
    "    split[3] = split[3].replace(\"\\n\",\"\")\n",
    "    \n",
    "    split[0] = int(split[0])\n",
    "    split[1] = int(split[1])\n",
    "    split[2] = float(split[2])\n",
    "    split[3] = int(split[3])\n",
    "    \n",
    "    result = tuple(split)\n",
    "    \n",
    "    return result\n",
    "\n",
    "\n",
    "URM_file.seek(0)\n",
    "URM_tuples = []\n",
    "\n",
    "for line in URM_file:\n",
    "   URM_tuples.append(rowSplit (line))\n",
    "\n",
    "\n",
    "\n",
    "URM_tuples[0:10]"
   ]
  },
  {
   "cell_type": "markdown",
   "metadata": {},
   "source": [
    "### We can easily separate the four columns in different independent lists"
   ]
  },
  {
   "cell_type": "code",
   "execution_count": 43,
   "metadata": {},
   "outputs": [],
   "source": [
    "userList, itemList, ratingList, timestampList = zip(*URM_tuples)\n",
    "\n",
    "userList = list(userList)\n",
    "itemList = list(itemList)\n",
    "ratingList = list(ratingList)\n",
    "timestampList = list(timestampList)"
   ]
  },
  {
   "cell_type": "code",
   "execution_count": 44,
   "metadata": {},
   "outputs": [
    {
     "data": {
      "text/plain": [
       "[1, 1, 1, 1, 1, 1, 1, 1, 1, 1]"
      ]
     },
     "execution_count": 44,
     "metadata": {},
     "output_type": "execute_result"
    }
   ],
   "source": [
    "userList[0:10]"
   ]
  },
  {
   "cell_type": "code",
   "execution_count": 45,
   "metadata": {},
   "outputs": [
    {
     "data": {
      "text/plain": [
       "[122, 185, 231, 292, 316, 329, 355, 356, 362, 364]"
      ]
     },
     "execution_count": 45,
     "metadata": {},
     "output_type": "execute_result"
    }
   ],
   "source": [
    "itemList[0:10]"
   ]
  },
  {
   "cell_type": "code",
   "execution_count": 46,
   "metadata": {},
   "outputs": [
    {
     "data": {
      "text/plain": [
       "[5.0, 5.0, 5.0, 5.0, 5.0, 5.0, 5.0, 5.0, 5.0, 5.0]"
      ]
     },
     "execution_count": 46,
     "metadata": {},
     "output_type": "execute_result"
    }
   ],
   "source": [
    "ratingList[0:10]"
   ]
  },
  {
   "cell_type": "code",
   "execution_count": 47,
   "metadata": {},
   "outputs": [
    {
     "data": {
      "text/plain": [
       "[838985046,\n",
       " 838983525,\n",
       " 838983392,\n",
       " 838983421,\n",
       " 838983392,\n",
       " 838983392,\n",
       " 838984474,\n",
       " 838983653,\n",
       " 838984885,\n",
       " 838983707]"
      ]
     },
     "execution_count": 47,
     "metadata": {},
     "output_type": "execute_result"
    }
   ],
   "source": [
    "timestampList[0:10]"
   ]
  },
  {
   "cell_type": "markdown",
   "metadata": {},
   "source": [
    "### Now we can display some statistics"
   ]
  },
  {
   "cell_type": "code",
   "execution_count": 48,
   "metadata": {},
   "outputs": [
    {
     "name": "stdout",
     "output_type": "stream",
     "text": [
      "Number of items\t 10677, Number of users\t 69878\n",
      "Max ID items\t 65133, Max Id users\t 71567\n",
      "\n",
      "Average interactions per user 143.11\n",
      "Average interactions per item 936.60\n",
      "\n",
      "Sparsity 98.66 %\n"
     ]
    }
   ],
   "source": [
    "userList_unique = list(set(userList))\n",
    "itemList_unique = list(set(itemList))\n",
    "\n",
    "numUsers = len(userList_unique)\n",
    "numItems = len(itemList_unique)\n",
    "\n",
    "\n",
    "print (\"Number of items\\t {}, Number of users\\t {}\".format(numItems, numUsers))\n",
    "print (\"Max ID items\\t {}, Max Id users\\t {}\\n\".format(max(itemList_unique), max(userList_unique)))\n",
    "print (\"Average interactions per user {:.2f}\".format(numberInteractions/numUsers))\n",
    "print (\"Average interactions per item {:.2f}\\n\".format(numberInteractions/numItems))\n",
    "\n",
    "print (\"Sparsity {:.2f} %\".format((1-float(numberInteractions)/(numItems*numUsers))*100))\n"
   ]
  },
  {
   "cell_type": "code",
   "execution_count": 63,
   "metadata": {},
   "outputs": [
    {
     "data": {
      "text/plain": [
       "10677"
      ]
     },
     "execution_count": 63,
     "metadata": {},
     "output_type": "execute_result"
    }
   ],
   "source": [
    "numItems"
   ]
  },
  {
   "cell_type": "markdown",
   "metadata": {},
   "source": [
    "##### Rating distribution in time"
   ]
  },
  {
   "cell_type": "code",
   "execution_count": 49,
   "metadata": {},
   "outputs": [
    {
     "data": {
      "image/png": "[encoded data removed]",
      "text/plain": [
       "<matplotlib.figure.Figure at 0x19ce80208>"
      ]
     },
     "metadata": {},
     "output_type": "display_data"
    }
   ],
   "source": [
    "import matplotlib.pyplot as pyplot\n",
    "\n",
    "# Clone the list to avoid changing the ordering of the original data\n",
    "timestamp_sorted = list(timestampList)\n",
    "timestamp_sorted.sort()\n",
    "\n",
    "\n",
    "pyplot.plot(timestamp_sorted, 'ro')\n",
    "pyplot.ylabel('Timestamp ')\n",
    "pyplot.xlabel('Item Index')\n",
    "pyplot.show()"
   ]
  },
  {
   "cell_type": "markdown",
   "metadata": {},
   "source": [
    "#### To store the data we use a sparse matrix. We build it as a COO matrix and then change its format\n",
    "\n",
    "#### The COO constructor expects (data, (row, column))"
   ]
  },
  {
   "cell_type": "code",
   "execution_count": 64,
   "metadata": {},
   "outputs": [
    {
     "data": {
      "text/plain": [
       "<71568x65134 sparse matrix of type '<class 'numpy.float64'>'\n",
       "\twith 10000054 stored elements in COOrdinate format>"
      ]
     },
     "execution_count": 64,
     "metadata": {},
     "output_type": "execute_result"
    }
   ],
   "source": [
    "import scipy.sparse as sps\n",
    "\n",
    "URM_all = sps.coo_matrix((ratingList, (userList, itemList)))\n",
    "\n",
    "URM_all"
   ]
  },
  {
   "cell_type": "code",
   "execution_count": 67,
   "metadata": {
    "scrolled": true
   },
   "outputs": [
    {
     "data": {
      "text/plain": [
       "<71568x65134 sparse matrix of type '<class 'numpy.float64'>'\n",
       "\twith 10000054 stored elements in Compressed Sparse Row format>"
      ]
     },
     "execution_count": 67,
     "metadata": {},
     "output_type": "execute_result"
    }
   ],
   "source": [
    "URM_all.tocsr()"
   ]
  },
  {
   "cell_type": "markdown",
   "metadata": {},
   "source": [
    "### Item popularity"
   ]
  },
  {
   "cell_type": "code",
   "execution_count": 68,
   "metadata": {},
   "outputs": [
    {
     "data": {
      "text/plain": [
       "matrix([[    0, 26449, 12032, ...,     0,     0,     7]], dtype=int64)"
      ]
     },
     "execution_count": 68,
     "metadata": {},
     "output_type": "execute_result"
    }
   ],
   "source": [
    "import numpy as np\n",
    "\n",
    "itemPopularity = (URM_all>0).sum(axis=0)\n",
    "itemPopularity"
   ]
  },
  {
   "cell_type": "code",
   "execution_count": 69,
   "metadata": {},
   "outputs": [
    {
     "data": {
      "text/plain": [
       "array([    0, 26449, 12032, ...,     0,     0,     7], dtype=int64)"
      ]
     },
     "execution_count": 69,
     "metadata": {},
     "output_type": "execute_result"
    }
   ],
   "source": [
    "itemPopularity = np.array(itemPopularity).squeeze()\n",
    "itemPopularity"
   ]
  },
  {
   "cell_type": "code",
   "execution_count": 70,
   "metadata": {},
   "outputs": [
    {
     "data": {
      "text/plain": [
       "array([    0,     0,     0, ..., 33668, 34457, 34864], dtype=int64)"
      ]
     },
     "execution_count": 70,
     "metadata": {},
     "output_type": "execute_result"
    }
   ],
   "source": [
    "itemPopularity = np.sort(itemPopularity)\n",
    "itemPopularity"
   ]
  },
  {
   "cell_type": "code",
   "execution_count": 71,
   "metadata": {},
   "outputs": [
    {
     "data": {
      "image/png": "[encoded data removed]",
      "text/plain": [
       "<matplotlib.figure.Figure at 0x197001f28>"
      ]
     },
     "metadata": {},
     "output_type": "display_data"
    }
   ],
   "source": [
    "pyplot.plot(itemPopularity, 'ro')\n",
    "pyplot.ylabel('Num Interactions ')\n",
    "pyplot.xlabel('Item Index')\n",
    "pyplot.show()"
   ]
  },
  {
   "cell_type": "code",
   "execution_count": 72,
   "metadata": {},
   "outputs": [
    {
     "name": "stdout",
     "output_type": "stream",
     "text": [
      "Average per-item interactions over the whole dataset 153.53\n",
      "Average per-item interactions for the top 10% popular items 2390.00\n",
      "Average per-item interactions for the least 10% popular items 0.00\n",
      "Average per-item interactions for the median 10% popular items 0.00\n"
     ]
    }
   ],
   "source": [
    "tenPercent = int(numItems/10)\n",
    "\n",
    "print(\"Average per-item interactions over the whole dataset {:.2f}\".\n",
    "      format(itemPopularity.mean()))\n",
    "\n",
    "print(\"Average per-item interactions for the top 10% popular items {:.2f}\".\n",
    "      format(itemPopularity[-tenPercent].mean()))\n",
    "\n",
    "print(\"Average per-item interactions for the least 10% popular items {:.2f}\".\n",
    "      format(itemPopularity[:tenPercent].mean()))\n",
    "\n",
    "print(\"Average per-item interactions for the median 10% popular items {:.2f}\".\n",
    "      format(itemPopularity[int(numItems*0.45):int(numItems*0.55)].mean()))"
   ]
  },
  {
   "cell_type": "code",
   "execution_count": 73,
   "metadata": {},
   "outputs": [
    {
     "name": "stdout",
     "output_type": "stream",
     "text": [
      "Number of items with zero interactions 54457\n"
     ]
    }
   ],
   "source": [
    "print(\"Number of items with zero interactions {}\".\n",
    "      format(np.sum(itemPopularity==0)))"
   ]
  },
  {
   "cell_type": "code",
   "execution_count": 74,
   "metadata": {},
   "outputs": [
    {
     "name": "stdout",
     "output_type": "stream",
     "text": [
      "Average per-item interactions over the whole dataset 936.60\n",
      "Average per-item interactions for the top 10% popular items 2390.00\n",
      "Average per-item interactions for the least 10% popular items 5.23\n",
      "Average per-item interactions for the median 10% popular items 136.45\n"
     ]
    }
   ],
   "source": [
    "itemPopularityNonzero = itemPopularity[itemPopularity>0]\n",
    "\n",
    "tenPercent = int(len(itemPopularityNonzero)/10)\n",
    "\n",
    "print(\"Average per-item interactions over the whole dataset {:.2f}\".\n",
    "      format(itemPopularityNonzero.mean()))\n",
    "\n",
    "print(\"Average per-item interactions for the top 10% popular items {:.2f}\".\n",
    "      format(itemPopularityNonzero[-tenPercent].mean()))\n",
    "\n",
    "print(\"Average per-item interactions for the least 10% popular items {:.2f}\".\n",
    "      format(itemPopularityNonzero[:tenPercent].mean()))\n",
    "\n",
    "print(\"Average per-item interactions for the median 10% popular items {:.2f}\".\n",
    "      format(itemPopularityNonzero[int(numItems*0.45):int(numItems*0.55)].mean()))"
   ]
  },
  {
   "cell_type": "code",
   "execution_count": 75,
   "metadata": {},
   "outputs": [
    {
     "data": {
      "text/plain": [
       "array([    1,     1,     1, ..., 33668, 34457, 34864], dtype=int64)"
      ]
     },
     "execution_count": 75,
     "metadata": {},
     "output_type": "execute_result"
    }
   ],
   "source": [
    "itemPopularityNonzero"
   ]
  },
  {
   "cell_type": "code",
   "execution_count": 76,
   "metadata": {},
   "outputs": [
    {
     "data": {
      "image/png": "[encoded data removed]",
      "text/plain": [
       "<matplotlib.figure.Figure at 0x19265d208>"
      ]
     },
     "metadata": {},
     "output_type": "display_data"
    }
   ],
   "source": [
    "pyplot.plot(itemPopularityNonzero, 'ro')\n",
    "pyplot.ylabel('Num Interactions ')\n",
    "pyplot.xlabel('Item Index')\n",
    "pyplot.show()"
   ]
  },
  {
   "cell_type": "markdown",
   "metadata": {},
   "source": [
    "### User activity"
   ]
  },
  {
   "cell_type": "code",
   "execution_count": 77,
   "metadata": {},
   "outputs": [
    {
     "data": {
      "image/png": "[encoded data removed]",
      "text/plain": [
       "<matplotlib.figure.Figure at 0x1970c6470>"
      ]
     },
     "metadata": {},
     "output_type": "display_data"
    }
   ],
   "source": [
    "userActivity = (URM_all>0).sum(axis=1)\n",
    "userActivity = np.array(userActivity).squeeze()\n",
    "userActivity = np.sort(userActivity)\n",
    "\n",
    "\n",
    "pyplot.plot(userActivity, 'ro')\n",
    "pyplot.ylabel('Num Interactions ')\n",
    "pyplot.xlabel('User Index')\n",
    "pyplot.show()"
   ]
  },
  {
   "cell_type": "markdown",
   "metadata": {},
   "source": [
    "### Now that we have the data, we can build our first recommender. We need two things:\n",
    "* a 'fit' function to train our model\n",
    "* a 'recommend' function that uses our model to recommend\n",
    "\n",
    "### Let's start with a random recommender"
   ]
  },
  {
   "cell_type": "markdown",
   "metadata": {},
   "source": [
    "#### In a random recommend we don't have anything to learn from the data"
   ]
  },
  {
   "cell_type": "code",
   "execution_count": 78,
   "metadata": {},
   "outputs": [],
   "source": [
    "class RandomRecommender(object):\n",
    "\n",
    "    def fit(self, URM_train):\n",
    "           \n",
    "        self.numItems = URM_train.shape[0]\n",
    "    \n",
    "    \n",
    "    def recommend(self, user_id, at=5):\n",
    "    \n",
    "        recommended_items = np.random.choice(self.numItems, at)\n",
    "\n",
    "        return recommended_items"
   ]
  },
  {
   "cell_type": "markdown",
   "metadata": {},
   "source": [
    "### In order to evaluate our recommender we have to define:\n",
    "* A splitting of the data in URM_train and URM_test\n",
    "* An evaluation metric\n",
    "* A functon computing the evaluation for each user\n",
    "\n",
    "### The splitting of the data is very important to ensure your algorithm is evaluated in a realistic scenario by using test it has never seen."
   ]
  },
  {
   "cell_type": "code",
   "execution_count": 79,
   "metadata": {},
   "outputs": [
    {
     "data": {
      "text/plain": [
       "array([ True, False,  True, ...,  True,  True, False])"
      ]
     },
     "execution_count": 79,
     "metadata": {},
     "output_type": "execute_result"
    }
   ],
   "source": [
    "train_test_split = 0.80\n",
    "\n",
    "numInteractions = URM_all.nnz\n",
    "\n",
    "\n",
    "train_mask = np.random.choice([True,False], numInteractions, p=[train_test_split, 1-train_test_split])\n",
    "train_mask"
   ]
  },
  {
   "cell_type": "code",
   "execution_count": 80,
   "metadata": {},
   "outputs": [
    {
     "data": {
      "text/plain": [
       "<71568x65134 sparse matrix of type '<class 'numpy.float64'>'\n",
       "\twith 7999826 stored elements in Compressed Sparse Row format>"
      ]
     },
     "execution_count": 80,
     "metadata": {},
     "output_type": "execute_result"
    }
   ],
   "source": [
    "userList = np.array(userList)\n",
    "itemList = np.array(itemList)\n",
    "ratingList = np.array(ratingList)\n",
    "\n",
    "\n",
    "URM_train = sps.coo_matrix((ratingList[train_mask], (userList[train_mask], itemList[train_mask])))\n",
    "URM_train = URM_train.tocsr()\n",
    "URM_train"
   ]
  },
  {
   "cell_type": "code",
   "execution_count": 81,
   "metadata": {},
   "outputs": [
    {
     "data": {
      "text/plain": [
       "<71568x65131 sparse matrix of type '<class 'numpy.float64'>'\n",
       "\twith 2000228 stored elements in Compressed Sparse Row format>"
      ]
     },
     "execution_count": 81,
     "metadata": {},
     "output_type": "execute_result"
    }
   ],
   "source": [
    "test_mask = np.logical_not(train_mask)\n",
    "\n",
    "URM_test = sps.coo_matrix((ratingList[test_mask], (userList[test_mask], itemList[test_mask])))\n",
    "URM_test = URM_test.tocsr()\n",
    "URM_test"
   ]
  },
  {
   "cell_type": "markdown",
   "metadata": {},
   "source": [
    "### Evaluation metric"
   ]
  },
  {
   "cell_type": "code",
   "execution_count": 82,
   "metadata": {},
   "outputs": [
    {
     "data": {
      "text/plain": [
       "2"
      ]
     },
     "execution_count": 82,
     "metadata": {},
     "output_type": "execute_result"
    }
   ],
   "source": [
    "user_id = userList_unique[1]\n",
    "user_id"
   ]
  },
  {
   "cell_type": "code",
   "execution_count": 83,
   "metadata": {},
   "outputs": [
    {
     "data": {
      "text/plain": [
       "array([29510,   657, 67721, 33204, 15956])"
      ]
     },
     "execution_count": 83,
     "metadata": {},
     "output_type": "execute_result"
    }
   ],
   "source": [
    "randomRecommender = RandomRecommender()\n",
    "randomRecommender.fit(URM_train)\n",
    "\n",
    "recommended_items = randomRecommender.recommend(user_id, at=5)\n",
    "recommended_items"
   ]
  },
  {
   "cell_type": "markdown",
   "metadata": {},
   "source": [
    "#### We call items in the test set 'relevant'"
   ]
  },
  {
   "cell_type": "code",
   "execution_count": 84,
   "metadata": {},
   "outputs": [
    {
     "data": {
      "text/plain": [
       "array([ 151,  376,  539,  590,  719, 1073, 1391, 1544], dtype=int32)"
      ]
     },
     "execution_count": 84,
     "metadata": {},
     "output_type": "execute_result"
    }
   ],
   "source": [
    "relevant_items = URM_test[user_id].indices\n",
    "relevant_items"
   ]
  },
  {
   "cell_type": "code",
   "execution_count": 85,
   "metadata": {},
   "outputs": [
    {
     "data": {
      "text/plain": [
       "array([False, False, False, False, False])"
      ]
     },
     "execution_count": 85,
     "metadata": {},
     "output_type": "execute_result"
    }
   ],
   "source": [
    "is_relevant = np.in1d(recommended_items, relevant_items, assume_unique=True)\n",
    "is_relevant"
   ]
  },
  {
   "cell_type": "markdown",
   "metadata": {},
   "source": [
    "### Precision: how many of the recommended items are relevant"
   ]
  },
  {
   "cell_type": "code",
   "execution_count": 86,
   "metadata": {},
   "outputs": [],
   "source": [
    "def precision(recommended_items, relevant_items):\n",
    "    \n",
    "    is_relevant = np.in1d(recommended_items, relevant_items, assume_unique=True)\n",
    "    \n",
    "    precision_score = np.sum(is_relevant, dtype=np.float32) / len(is_relevant)\n",
    "    \n",
    "    return precision_score"
   ]
  },
  {
   "cell_type": "markdown",
   "metadata": {},
   "source": [
    "### Recall: how many of the relevant items I was able to recommend"
   ]
  },
  {
   "cell_type": "code",
   "execution_count": 87,
   "metadata": {},
   "outputs": [],
   "source": [
    "def recall(recommended_items, relevant_items):\n",
    "    \n",
    "    is_relevant = np.in1d(recommended_items, relevant_items, assume_unique=True)\n",
    "    \n",
    "    recall_score = np.sum(is_relevant, dtype=np.float32) / relevant_items.shape[0]\n",
    "    \n",
    "    return recall_score"
   ]
  },
  {
   "cell_type": "markdown",
   "metadata": {},
   "source": [
    "### Mean Average Precision"
   ]
  },
  {
   "cell_type": "code",
   "execution_count": 89,
   "metadata": {},
   "outputs": [],
   "source": [
    "def MAP(recommended_items, relevant_items):\n",
    "   \n",
    "    is_relevant = np.in1d(recommended_items, relevant_items, assume_unique=True)\n",
    "    \n",
    "    # Cumulative sum: precision at 1, at 2, at 3 ...\n",
    "    p_at_k = is_relevant * np.cumsum(is_relevant, dtype=np.float32) / (1 + np.arange(is_relevant.shape[0]))\n",
    "    \n",
    "    map_score = np.sum(p_at_k) / np.min([relevant_items.shape[0], is_relevant.shape[0]])\n",
    "\n",
    "    return map_score"
   ]
  },
  {
   "cell_type": "markdown",
   "metadata": {},
   "source": [
    "### And let's test it!"
   ]
  },
  {
   "cell_type": "code",
   "execution_count": 92,
   "metadata": {},
   "outputs": [],
   "source": [
    "# We pass as paramether the recommender class\n",
    "\n",
    "def evaluate_algorithm(URM_test, recommender_object, at=5):\n",
    "    \n",
    "    cumulative_precision = 0.0\n",
    "    cumulative_recall = 0.0\n",
    "    cumulative_MAP = 0.0\n",
    "    \n",
    "    num_eval = 0\n",
    "\n",
    "\n",
    "    for user_id in userList_unique:\n",
    "\n",
    "        relevant_items = URM_test[user_id].indices\n",
    "        \n",
    "        if len(relevant_items)>0:\n",
    "            \n",
    "            recommended_items = recommender_object.recommend(user_id, at=at)\n",
    "            num_eval+=1\n",
    "\n",
    "            cumulative_precision += precision(recommended_items, relevant_items)\n",
    "            cumulative_recall += recall(recommended_items, relevant_items)\n",
    "            cumulative_MAP += MAP(recommended_items, relevant_items)\n",
    "\n",
    "\n",
    "    cumulative_precision /= num_eval\n",
    "    cumulative_recall /= num_eval\n",
    "    cumulative_MAP /= num_eval\n",
    "    \n",
    "    print(\"Recommender performance is: Precision = {:.4f}, Recall = {:.4f}, MAP = {:.4f}\".format(\n",
    "        cumulative_precision, cumulative_recall, cumulative_MAP)) \n"
   ]
  },
  {
   "cell_type": "code",
   "execution_count": 94,
   "metadata": {},
   "outputs": [
    {
     "name": "stdout",
     "output_type": "stream",
     "text": [
      "Recommender performance is: Precision = 0.0004, Recall = 0.0001, MAP = 0.0002\n"
     ]
    }
   ],
   "source": [
    "evaluate_algorithm(URM_test, randomRecommender)"
   ]
  },
  {
   "cell_type": "markdown",
   "metadata": {},
   "source": [
    "### So the code works. The performance however..."
   ]
  },
  {
   "cell_type": "markdown",
   "metadata": {},
   "source": [
    "# Top Popular recommender\n",
    "\n",
    "#### We recommend to all users the most popular items, that is those with the highest number of interactions\n",
    "#### In this case our model is the item popularity"
   ]
  },
  {
   "cell_type": "code",
   "execution_count": 95,
   "metadata": {},
   "outputs": [],
   "source": [
    "class TopPopRecommender(object):\n",
    "\n",
    "    def fit(self, URM_train):\n",
    "\n",
    "        itemPopularity = (URM_train>0).sum(axis=0)\n",
    "        itemPopularity = np.array(itemPopularity).squeeze()\n",
    "\n",
    "        # We are not interested in sorting the popularity value,\n",
    "        # but to order the items according to it\n",
    "        self.popularItems = np.argsort(itemPopularity)\n",
    "        self.popularItems = np.flip(self.popularItems, axis = 0)\n",
    "    \n",
    "    \n",
    "    def recommend(self, user_id, at=5):\n",
    "    \n",
    "        recommended_items = self.popularItems[0:at]\n",
    "\n",
    "        return recommended_items\n",
    "\n"
   ]
  },
  {
   "cell_type": "markdown",
   "metadata": {},
   "source": [
    "### Now train and test our model"
   ]
  },
  {
   "cell_type": "code",
   "execution_count": 96,
   "metadata": {},
   "outputs": [],
   "source": [
    "topPopRecommender = TopPopRecommender()\n",
    "topPopRecommender.fit(URM_train)"
   ]
  },
  {
   "cell_type": "code",
   "execution_count": 97,
   "metadata": {},
   "outputs": [
    {
     "name": "stdout",
     "output_type": "stream",
     "text": [
      "[296 356 593 480 318]\n",
      "[296 356 593 480 318]\n",
      "[296 356 593 480 318]\n",
      "[296 356 593 480 318]\n",
      "[296 356 593 480 318]\n",
      "[296 356 593 480 318]\n",
      "[296 356 593 480 318]\n",
      "[296 356 593 480 318]\n",
      "[296 356 593 480 318]\n",
      "[296 356 593 480 318]\n"
     ]
    }
   ],
   "source": [
    "for user_id in userList_unique[0:10]:\n",
    "    print(topPopRecommender.recommend(user_id, at=5))"
   ]
  },
  {
   "cell_type": "code",
   "execution_count": 98,
   "metadata": {},
   "outputs": [
    {
     "name": "stdout",
     "output_type": "stream",
     "text": [
      "Recommender performance is: Precision = 0.0946, Recall = 0.0304, MAP = 0.0517\n"
     ]
    }
   ],
   "source": [
    "evaluate_algorithm(URM_test, topPopRecommender, at=5)"
   ]
  },
  {
   "cell_type": "markdown",
   "metadata": {},
   "source": [
    "### That's better, but we can improve\n",
    "\n",
    "### Hint, remove items already seen by the user"
   ]
  },
  {
   "cell_type": "code",
   "execution_count": 99,
   "metadata": {},
   "outputs": [],
   "source": [
    "class TopPopRecommender(object):\n",
    "\n",
    "    def fit(self, URM_train):\n",
    "        \n",
    "        self.URM_train = URM_train\n",
    "\n",
    "        itemPopularity = (URM_train>0).sum(axis=0)\n",
    "        itemPopularity = np.array(itemPopularity).squeeze()\n",
    "\n",
    "        # We are not interested in sorting the popularity value,\n",
    "        # but to order the items according to it\n",
    "        self.popularItems = np.argsort(itemPopularity)\n",
    "        self.popularItems = np.flip(self.popularItems, axis = 0)\n",
    "    \n",
    "    \n",
    "    def recommend(self, user_id, at=5, remove_seen=True):\n",
    "\n",
    "        if remove_seen:\n",
    "            unseen_items_mask = np.in1d(self.popularItems, self.URM_train[user_id].indices,\n",
    "                                        assume_unique=True, invert = True)\n",
    "\n",
    "            unseen_items = self.popularItems[unseen_items_mask]\n",
    "\n",
    "            recommended_items = unseen_items[0:at]\n",
    "\n",
    "        else:\n",
    "            recommended_items = self.popularItems[0:at]\n",
    "            \n",
    "\n",
    "        return recommended_items\n"
   ]
  },
  {
   "cell_type": "code",
   "execution_count": 100,
   "metadata": {},
   "outputs": [
    {
     "name": "stdout",
     "output_type": "stream",
     "text": [
      "[296 593 318 110 457]\n",
      "[296 356 593 480 318]\n",
      "[296 356 593 480 318]\n",
      "[296 356 593 318 110]\n",
      "[296 356 480 318 110]\n",
      "[296 356 593 480 318]\n",
      "[296 356 593 480 318]\n",
      "[296 356 593 318 110]\n",
      "[296 356 593 480 318]\n",
      "[480 318 110 589 260]\n"
     ]
    }
   ],
   "source": [
    "topPopRecommender_removeSeen = TopPopRecommender()\n",
    "topPopRecommender_removeSeen.fit(URM_train)\n",
    "\n",
    "for user_id in userList_unique[0:10]:\n",
    "    print(topPopRecommender_removeSeen.recommend(user_id, at=5))"
   ]
  },
  {
   "cell_type": "code",
   "execution_count": 102,
   "metadata": {},
   "outputs": [
    {
     "name": "stdout",
     "output_type": "stream",
     "text": [
      "Recommender performance is: Precision = 0.1972, Recall = 0.0526, MAP = 0.1461\n"
     ]
    }
   ],
   "source": [
    "evaluate_algorithm(URM_test, topPopRecommender_removeSeen)"
   ]
  },
  {
   "cell_type": "markdown",
   "metadata": {},
   "source": [
    "#### Simple but effective. Always remove seen items if your purpose is to recommend \"new\" ones"
   ]
  },
  {
   "cell_type": "markdown",
   "metadata": {},
   "source": [
    "# Global effects recommender\n",
    "\n",
    "#### We recommend to all users the highest rated items\n",
    "\n",
    "#### First we compute the average of all ratings, or global average"
   ]
  },
  {
   "cell_type": "code",
   "execution_count": 103,
   "metadata": {},
   "outputs": [
    {
     "name": "stdout",
     "output_type": "stream",
     "text": [
      "The global average is 3.51\n"
     ]
    }
   ],
   "source": [
    "globalAverage = np.mean(URM_train.data)\n",
    "\n",
    "print(\"The global average is {:.2f}\".format(globalAverage))"
   ]
  },
  {
   "cell_type": "markdown",
   "metadata": {},
   "source": [
    "#### We subtract the bias to all ratings"
   ]
  },
  {
   "cell_type": "code",
   "execution_count": 104,
   "metadata": {},
   "outputs": [
    {
     "name": "stdout",
     "output_type": "stream",
     "text": [
      "[1.48745766 1.48745766 1.48745766 1.48745766 1.48745766 1.48745766\n",
      " 1.48745766 1.48745766 1.48745766 1.48745766]\n"
     ]
    }
   ],
   "source": [
    "URM_train_unbiased = URM_train.copy()\n",
    "\n",
    "URM_train_unbiased.data -= globalAverage\n",
    "\n",
    "print(URM_train_unbiased.data[0:10])"
   ]
  },
  {
   "cell_type": "markdown",
   "metadata": {},
   "source": [
    "#### Then we compute the average rating for each item, or itemBias"
   ]
  },
  {
   "cell_type": "code",
   "execution_count": 105,
   "metadata": {},
   "outputs": [
    {
     "data": {
      "text/plain": [
       "matrix([[ 0.00000000e+00,  1.23073371e-01, -4.07478437e-02, ...,\n",
       "          0.00000000e+00,  0.00000000e+00, -1.51994795e-05]])"
      ]
     },
     "execution_count": 105,
     "metadata": {},
     "output_type": "execute_result"
    }
   ],
   "source": [
    "item_mean_rating = URM_train_unbiased.mean(axis=0)\n",
    "item_mean_rating"
   ]
  },
  {
   "cell_type": "code",
   "execution_count": 106,
   "metadata": {},
   "outputs": [
    {
     "data": {
      "image/png": "[encoded data removed]",
      "text/plain": [
       "<matplotlib.figure.Figure at 0x196f52978>"
      ]
     },
     "metadata": {},
     "output_type": "display_data"
    }
   ],
   "source": [
    "item_mean_rating = np.array(item_mean_rating).squeeze()\n",
    "item_mean_rating = np.sort(item_mean_rating[item_mean_rating!=0])\n",
    "\n",
    "pyplot.plot(item_mean_rating, 'ro')\n",
    "pyplot.ylabel('Item Bias')\n",
    "pyplot.xlabel('Item Index')\n",
    "pyplot.show()"
   ]
  },
  {
   "cell_type": "markdown",
   "metadata": {},
   "source": [
    "#### And the average rating for each user, or userBias"
   ]
  },
  {
   "cell_type": "code",
   "execution_count": 107,
   "metadata": {},
   "outputs": [
    {
     "data": {
      "text/plain": [
       "matrix([[ 0.00000000e+00],\n",
       "        [ 4.33900814e-04],\n",
       "        [-6.37226030e-05],\n",
       "        ...,\n",
       "        [ 6.54733746e-04],\n",
       "        [ 2.07239024e-04],\n",
       "        [-1.61232128e-04]])"
      ]
     },
     "execution_count": 107,
     "metadata": {},
     "output_type": "execute_result"
    }
   ],
   "source": [
    "user_mean_rating = URM_train_unbiased.mean(axis=1)\n",
    "user_mean_rating"
   ]
  },
  {
   "cell_type": "code",
   "execution_count": 108,
   "metadata": {},
   "outputs": [
    {
     "data": {
      "image/png": "[encoded data removed]",
      "text/plain": [
       "<matplotlib.figure.Figure at 0x196f603c8>"
      ]
     },
     "metadata": {},
     "output_type": "display_data"
    }
   ],
   "source": [
    "user_mean_rating = np.array(user_mean_rating).squeeze()\n",
    "user_mean_rating = np.sort(user_mean_rating[user_mean_rating!=0.0])\n",
    "\n",
    "pyplot.plot(user_mean_rating, 'ro')\n",
    "pyplot.ylabel('User Bias')\n",
    "pyplot.xlabel('User Index')\n",
    "pyplot.show()"
   ]
  },
  {
   "cell_type": "markdown",
   "metadata": {},
   "source": [
    "#### Now we can sort the items by their itemBias and use the same recommendation principle as in TopPop"
   ]
  },
  {
   "cell_type": "code",
   "execution_count": 109,
   "metadata": {},
   "outputs": [],
   "source": [
    "class GlobalEffectsRecommender(object):\n",
    "\n",
    "    def fit(self, URM_train):\n",
    "        \n",
    "        self.URM_train = URM_train\n",
    "\n",
    "        globalAverage = np.mean(URM_train.data)\n",
    "\n",
    "        URM_train_unbiased = URM_train.copy()\n",
    "        URM_train_unbiased.data -= globalAverage\n",
    "\n",
    "        item_mean_rating = URM_train_unbiased.mean(axis=0)\n",
    "        item_mean_rating = np.array(item_mean_rating).squeeze()\n",
    "\n",
    "        self.bestRatedItems = np.argsort(item_mean_rating)\n",
    "        self.bestRatedItems = np.flip(self.bestRatedItems, axis = 0)\n",
    "\n",
    "        \n",
    "    \n",
    "    def recommend(self, user_id, at=5, remove_seen=True):\n",
    "\n",
    "        if remove_seen:\n",
    "\n",
    "            unseen_items_mask = np.in1d(self.bestRatedItems, URM_train[user_id].indices,\n",
    "                                        assume_unique=True, invert = True)\n",
    "\n",
    "            unseen_items = self.bestRatedItems[unseen_items_mask]\n",
    "\n",
    "            recommended_items = unseen_items[0:at]\n",
    "\n",
    "        else:\n",
    "            recommended_items = self.bestRatedItems[0:at]\n",
    "            \n",
    "\n",
    "        return recommended_items\n",
    "\n"
   ]
  },
  {
   "cell_type": "code",
   "execution_count": 110,
   "metadata": {},
   "outputs": [
    {
     "name": "stdout",
     "output_type": "stream",
     "text": [
      "Recommender performance is: Precision = 0.1683, Recall = 0.0386, MAP = 0.1218\n"
     ]
    }
   ],
   "source": [
    "globalEffectsRecommender = GlobalEffectsRecommender()\n",
    "globalEffectsRecommender.fit(URM_train)\n",
    "\n",
    "evaluate_algorithm(URM_test, globalEffectsRecommender)"
   ]
  },
  {
   "cell_type": "markdown",
   "metadata": {},
   "source": [
    "### Now let's try to combine User bias an item bias"
   ]
  },
  {
   "cell_type": "code",
   "execution_count": null,
   "metadata": {},
   "outputs": [],
   "source": [
    "class GlobalEffectsRecommender(object):\n",
    "\n",
    "    def fit(self, URM_train):\n",
    "        \n",
    "        self.URM_train = URM_train\n",
    "\n",
    "        globalAverage = np.mean(URM_train.data)\n",
    "\n",
    "        URM_train_unbiased = URM_train.copy()\n",
    "        URM_train_unbiased.data -= globalAverage\n",
    "        \n",
    "        # User Bias\n",
    "        user_mean_rating = URM_train_unbiased.mean(axis=1)\n",
    "        user_mean_rating = np.array(user_mean_rating).squeeze()\n",
    "        \n",
    "        # In order to apply the user bias we have to change the rating value \n",
    "        # in the URM_train_unbiased inner data structures\n",
    "        # If we were to write:\n",
    "        # URM_train_unbiased[user_id].data -= user_mean_rating[user_id]\n",
    "        # we would change the value of a new matrix with no effect on the original data structure\n",
    "        for user_id in range(len(user_mean_rating)):\n",
    "            start_position = URM_train_unbiased.indptr[user_id]\n",
    "            end_position = URM_train_unbiased.indptr[user_id+1]\n",
    "            \n",
    "            URM_train_unbiased.data[start_position:end_position] -= user_mean_rating[user_id]\n",
    "\n",
    "        # Item Bias\n",
    "        item_mean_rating = URM_train_unbiased.mean(axis=0)\n",
    "        item_mean_rating = np.array(item_mean_rating).squeeze()\n",
    "\n",
    "        self.bestRatedItems = np.argsort(item_mean_rating)\n",
    "        self.bestRatedItems = np.flip(self.bestRatedItems, axis = 0)\n",
    "\n",
    "        \n",
    "    \n",
    "    def recommend(self, user_id, at=5, remove_seen=True):\n",
    "\n",
    "        if remove_seen:\n",
    "\n",
    "            unseen_items_mask = np.in1d(self.bestRatedItems, URM_train[user_id].indices,\n",
    "                                        assume_unique=True, invert = True)\n",
    "\n",
    "            unseen_items = self.bestRatedItems[unseen_items_mask]\n",
    "\n",
    "            recommended_items = unseen_items[0:at]\n",
    "\n",
    "        else:\n",
    "            recommended_items = self.bestRatedItems[0:at]\n",
    "            \n",
    "\n",
    "        return recommended_items\n"
   ]
  },
  {
   "cell_type": "code",
   "execution_count": null,
   "metadata": {},
   "outputs": [],
   "source": [
    "globalEffectsRecommender = GlobalEffectsRecommender()\n",
    "globalEffectsRecommender.fit(URM_train)\n",
    "\n",
    "evaluate_algorithm(URM_test, globalEffectsRecommender)"
   ]
  },
  {
   "cell_type": "markdown",
   "metadata": {},
   "source": [
    "#### The result is identical. User bias is essential in case of rating prediction but not relevant in case of TopK recommendations."
   ]
  },
  {
   "cell_type": "markdown",
   "metadata": {},
   "source": [
    "## Question:\n",
    "\n",
    "#### Why is GlobalEffect performing worse than TopPop even if we are taking into account more information about the interaction?\n",
    ".\n",
    "\n",
    ".\n",
    "\n",
    ".\n",
    "\n",
    ".\n",
    "\n",
    ".\n",
    "\n",
    ".\n",
    "\n",
    ".\n",
    "\n",
    ".\n",
    "\n",
    ".\n",
    "\n",
    "### The test data contains a lot of low rating interactions... We are testing against those as well, but GlobalEffects is penalizing interactions with low rating"
   ]
  },
  {
   "cell_type": "code",
   "execution_count": null,
   "metadata": {},
   "outputs": [],
   "source": [
    "URM_test.data[URM_test.data<=2]"
   ]
  },
  {
   "cell_type": "markdown",
   "metadata": {},
   "source": [
    "### In reality we want to recommend items rated in a positive way, so let's build a new Test set with positive interactions only"
   ]
  },
  {
   "cell_type": "code",
   "execution_count": null,
   "metadata": {},
   "outputs": [],
   "source": [
    "URM_test_positiveOnly = URM_test.copy()\n",
    "\n",
    "URM_test_positiveOnly.data[URM_test.data<=2] = 0\n",
    "URM_test_positiveOnly.eliminate_zeros()\n",
    "URM_test_positiveOnly"
   ]
  },
  {
   "cell_type": "code",
   "execution_count": null,
   "metadata": {},
   "outputs": [],
   "source": [
    "print(\"Deleted {} negative interactions\".format(URM_test.nnz - URM_test_positiveOnly.nnz))"
   ]
  },
  {
   "cell_type": "markdown",
   "metadata": {},
   "source": [
    "#### Run the evaluation again for both"
   ]
  },
  {
   "cell_type": "code",
   "execution_count": null,
   "metadata": {},
   "outputs": [],
   "source": [
    "evaluate_algorithm(URM_test_positiveOnly, topPopRecommender_removeSeen)"
   ]
  },
  {
   "cell_type": "code",
   "execution_count": null,
   "metadata": {},
   "outputs": [],
   "source": [
    "evaluate_algorithm(URM_test_positiveOnly, globalEffectsRecommender)"
   ]
  },
  {
   "cell_type": "markdown",
   "metadata": {},
   "source": [
    "### GlobalEffects performs worse again...\n",
    "\n",
    "### Ideas?\n",
    "\n",
    ".\n",
    "\n",
    ".\n",
    "\n",
    ".\n",
    "\n",
    ".\n",
    "\n",
    ".\n",
    "\n",
    ".\n",
    "\n",
    ".\n",
    "\n",
    ".\n",
    "\n",
    ".\n",
    "\n",
    "### Sometimes ratings are not really more informative than interactions, depends on their quality"
   ]
  }
 ],
 "metadata": {
  "kernelspec": {
   "display_name": "Python 3",
   "language": "python",
   "name": "python3"
  },
  "language_info": {
   "codemirror_mode": {
    "name": "ipython",
    "version": 3
   },
   "file_extension": ".py",
   "mimetype": "text/x-python",
   "name": "python",
   "nbconvert_exporter": "python",
   "pygments_lexer": "ipython3",
   "version": "3.6.4"
  }
 },
 "nbformat": 4,
 "nbformat_minor": 1
}
